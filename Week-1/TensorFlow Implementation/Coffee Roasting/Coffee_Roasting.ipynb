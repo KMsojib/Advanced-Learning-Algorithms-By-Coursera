{
 "cells": [
  {
   "cell_type": "code",
   "execution_count": 36,
   "metadata": {},
   "outputs": [],
   "source": [
    "import numpy as np\n",
    "from tensorflow.keras.models import Sequential\n",
    "from tensorflow.keras.layers import Dense\n",
    "import tensorflow as tf"
   ]
  },
  {
   "cell_type": "code",
   "execution_count": 37,
   "metadata": {},
   "outputs": [
    {
     "name": "stdout",
     "output_type": "stream",
     "text": [
      "[[200.  17.]\n",
      " [100.  10.]\n",
      " [150.  12.]\n",
      " [180.  15.]\n",
      " [ 90.   8.]\n",
      " [120.   9.]]\n"
     ]
    }
   ],
   "source": [
    "X_train = np.array([\n",
    "    [200.00, 17.0],  # Good coffee\n",
    "    [100.00, 10.0],  # Bad coffee\n",
    "    [150.00, 12.0],  # Good coffee\n",
    "    [180.00, 15.0],  # Good coffee\n",
    "    [90.00, 8.0],    # Bad coffee\n",
    "    [120.00, 9.0]    # Bad coffee\n",
    "])\n",
    "print(X_train)"
   ]
  },
  {
   "cell_type": "code",
   "execution_count": 38,
   "metadata": {},
   "outputs": [],
   "source": [
    "y_train = np.array([1, 0, 1, 1, 0, 0])"
   ]
  },
  {
   "cell_type": "code",
   "execution_count": 39,
   "metadata": {},
   "outputs": [
    {
     "name": "stderr",
     "output_type": "stream",
     "text": [
      "c:\\Users\\Kawsar\\AppData\\Local\\Programs\\Python\\Python312\\Lib\\site-packages\\keras\\src\\layers\\core\\dense.py:87: UserWarning: Do not pass an `input_shape`/`input_dim` argument to a layer. When using Sequential models, prefer using an `Input(shape)` object as the first layer in the model instead.\n",
      "  super().__init__(activity_regularizer=activity_regularizer, **kwargs)\n"
     ]
    }
   ],
   "source": [
    "model = Sequential([\n",
    "    Dense(units=3, activation='sigmoid', input_shape=(2,)),\n",
    "    Dense(units=1, activation='sigmoid')\n",
    "])\n"
   ]
  },
  {
   "cell_type": "code",
   "execution_count": 40,
   "metadata": {},
   "outputs": [],
   "source": [
    "model.compile(optimizer='adam', loss='binary_crossentropy', metrics=['accuracy'])"
   ]
  },
  {
   "cell_type": "code",
   "execution_count": 42,
   "metadata": {},
   "outputs": [
    {
     "data": {
      "text/plain": [
       "<keras.src.callbacks.history.History at 0x1b52dba2e10>"
      ]
     },
     "execution_count": 42,
     "metadata": {},
     "output_type": "execute_result"
    }
   ],
   "source": [
    "model.fit(X_train, y_train, epochs=10, verbose=0)"
   ]
  },
  {
   "cell_type": "code",
   "execution_count": 43,
   "metadata": {},
   "outputs": [],
   "source": [
    "X_test = np.array([\n",
    "    [200.00, 17.0],\n",
    "    [100.00, 10.0],\n",
    "    [160.00, 14.0]\n",
    "])"
   ]
  },
  {
   "cell_type": "code",
   "execution_count": 44,
   "metadata": {},
   "outputs": [
    {
     "name": "stdout",
     "output_type": "stream",
     "text": [
      "\u001b[1m1/1\u001b[0m \u001b[32m━━━━━━━━━━━━━━━━━━━━\u001b[0m\u001b[37m\u001b[0m \u001b[1m0s\u001b[0m 43ms/step\n"
     ]
    }
   ],
   "source": [
    "predictions = model.predict(X_test)"
   ]
  },
  {
   "cell_type": "code",
   "execution_count": 45,
   "metadata": {},
   "outputs": [
    {
     "name": "stdout",
     "output_type": "stream",
     "text": [
      "Sample 1: Good Coffee\n",
      "Sample 2: Bad Coffee\n",
      "Sample 3: Good Coffee\n"
     ]
    }
   ],
   "source": [
    "for i, prediction in enumerate(predictions):\n",
    "    if prediction >= 0.5:\n",
    "        print(f\"Sample {i + 1}: Good Coffee\")\n",
    "    else:\n",
    "        print(f\"Sample {i + 1}: Bad Coffee\")"
   ]
  },
  {
   "cell_type": "code",
   "execution_count": 28,
   "metadata": {},
   "outputs": [],
   "source": [
    "# Layer_1 = Dense(units=3, activation='sigmoid')\n",
    "# a1 = Layer_1(X)\n",
    "\n",
    "# Layer_2 = Dense(units=1, activation='sigmoid')\n",
    "# a2 = Layer_2(a1)\n"
   ]
  },
  {
   "cell_type": "code",
   "execution_count": 31,
   "metadata": {},
   "outputs": [
    {
     "name": "stdout",
     "output_type": "stream",
     "text": [
      "tf.Tensor(\n",
      "[[0.6457952]\n",
      " [0.6457952]\n",
      " [0.6457952]\n",
      " [0.6457952]], shape=(4, 1), dtype=float32)\n"
     ]
    }
   ],
   "source": [
    "# print(a2)\n",
    "# a2 = a2.numpy()"
   ]
  },
  {
   "cell_type": "code",
   "execution_count": 32,
   "metadata": {},
   "outputs": [
    {
     "name": "stdout",
     "output_type": "stream",
     "text": [
      "Good Coffee\n",
      "Good Coffee\n",
      "Good Coffee\n",
      "Good Coffee\n"
     ]
    }
   ],
   "source": [
    "for val, prediction in enumerate(a2):\n",
    "    if prediction >= 0.5:\n",
    "        print(\"Good Coffee\")\n",
    "    else:\n",
    "        print(\"Bad Coffee\")"
   ]
  },
  {
   "cell_type": "code",
   "execution_count": null,
   "metadata": {},
   "outputs": [],
   "source": []
  }
 ],
 "metadata": {
  "kernelspec": {
   "display_name": "Python 3",
   "language": "python",
   "name": "python3"
  },
  "language_info": {
   "codemirror_mode": {
    "name": "ipython",
    "version": 3
   },
   "file_extension": ".py",
   "mimetype": "text/x-python",
   "name": "python",
   "nbconvert_exporter": "python",
   "pygments_lexer": "ipython3",
   "version": "3.12.4"
  }
 },
 "nbformat": 4,
 "nbformat_minor": 2
}
